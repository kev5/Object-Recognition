{
 "cells": [
  {
   "cell_type": "code",
   "execution_count": 1,
   "metadata": {},
   "outputs": [
    {
     "name": "stdout",
     "output_type": "stream",
     "text": [
      "users/arshitha//bathroom/scene_1\n",
      "[628, 384, 340, 53]\n",
      "[808, 655, 812, 161]\n",
      "[596, 574, 470, 420]\n",
      "[620, 590, 468, 447]\n",
      "[276, 218, 405, 96]\n",
      "[421, 403, 719, 673]\n",
      "[625, 607, 718, 670]\n",
      "[685, 654, 372, 348]\n",
      "[81, 1, 138, 46]\n",
      "[108, 5, 410, 69]\n",
      "[773, 703, 677, 436]\n"
     ]
    }
   ],
   "source": [
    "from xml.dom import minidom\n",
    "import xml.etree.ElementTree as ET\n",
    "\n",
    "def bound(xml):\n",
    "    tree = ET.parse(xml)#'scene.xml'\n",
    "    root = tree.getroot()\n",
    "\n",
    "    xmldoc = minidom.parse('scene.xml')\n",
    "    itemlist = xmldoc.getElementsByTagName('object') \n",
    "    xlist = xmldoc.getElementsByTagName('polygon') \n",
    "    # for child in xlist:\n",
    "    #     print(child.text)\n",
    "    # print (\"Len : \", len(itemlist))\n",
    "    name = itemlist[0].getElementsByTagName('name')\n",
    "    poly = itemlist[0].getElementsByTagName('poly')\n",
    "    print(root[1].text)\n",
    "    objectx = []\n",
    "    objecty = []\n",
    "    corner = []#\n",
    "    bounding = {}\n",
    "    for child in root.iter('object'):\n",
    "        obj = child\n",
    "        delete = obj.find('deleted').text\n",
    "        x = []\n",
    "        y = []\n",
    "        for child in obj.iter('pt'):\n",
    "                x.append(int(child.find('x').text))\n",
    "                y.append(int(child.find('y').text))\n",
    "        if(delete!='1'):\n",
    "            objectx.append(x)\n",
    "            objecty.append(y)\n",
    "            upperright_x = max(x)\n",
    "            upperright_y = max(y)\n",
    "            downleft_x = min(x)\n",
    "            downleft_y = min(y)\n",
    "            corner.append([upperright_x, downleft_x, upperright_y, downleft_y])\n",
    "\n",
    "    return corner\n",
    "    # upperright_x = max(objectx[0])\n",
    "    # upperright_y = max(objecty[0])\n",
    "    # downleft_x = min(objectx[0])\n",
    "    # downleft_y = min(objecty[0])\n",
    "    #print('(',upperright_x, upperright_y,')','(', downleft_x, downleft_y,')')\n",
    "    for j in range(len(objectx)):\n",
    "        print(corner[j])\n",
    "        print('---object',j,'---')\n",
    "        for i in range(len(objectx[j])):\n",
    "            print('x:',objectx[j][i],', y:',objecty[j][i])\n",
    "        print()\n",
    "    \n",
    "bounding = []\n",
    "bounding = bound('scene.xml')\n",
    "for item in bounding:\n",
    "    print(item)\n",
    "#         ob = child\n",
    "#         for child in ob:\n",
    "#             if child.tag == \"polygon\":\n",
    "#                 print(child.tag)\n",
    "#         for child in ob:\n",
    "#             print(child.text)\n",
    "#         print(ob.child)\n",
    "#         if(child[1] != 1):\n",
    "#             namelist.append(child[0].text)\n",
    "#             print(child[8].text)\n",
    "#print(namelist)\n",
    "#print (\"Attribute Name : \", itemlist[0].attributes['name'].value)"
   ]
  },
  {
   "cell_type": "code",
   "execution_count": null,
   "metadata": {},
   "outputs": [],
   "source": []
  }
 ],
 "metadata": {
  "kernelspec": {
   "display_name": "Python 3",
   "language": "python",
   "name": "python3"
  },
  "language_info": {
   "codemirror_mode": {
    "name": "ipython",
    "version": 3
   },
   "file_extension": ".py",
   "mimetype": "text/x-python",
   "name": "python",
   "nbconvert_exporter": "python",
   "pygments_lexer": "ipython3",
   "version": "3.6.4"
  }
 },
 "nbformat": 4,
 "nbformat_minor": 2
}
