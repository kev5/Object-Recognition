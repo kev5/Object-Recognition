{
 "cells": [
  {
   "cell_type": "code",
   "execution_count": 1,
   "metadata": {},
   "outputs": [
    {
     "name": "stdout",
     "output_type": "stream",
     "text": [
      "[]\n",
      "deleting dell3007wfp_desk\n"
     ]
    }
   ],
   "source": [
    "import glob\n",
    "import os\n",
    "path = \"/Users/zhiyuwang/Desktop/CS640/project/scenes/image/training_img/dining_room/\"\n",
    "path2 = \"/Users/zhiyuwang/Desktop/CS640/project/scenes/image/training_label/dining_room/\"\n",
    "dirs = []\n",
    "delete = []\n",
    "for file in os.listdir(path):\n",
    "    if file.endswith(\".jpg\"):\n",
    "        dirs.append(file)\n",
    "    else:\n",
    "        delete.append(file)\n",
    "\n",
    "print(delete)\n",
    "        \n",
    "dirs2 = os.listdir(path2)\n",
    "dic = {}\n",
    "dic2 = {}\n",
    "for item in dirs:\n",
    "    name = item.replace(\".jpg\",\"\")\n",
    "    dic[name] = \"\"\n",
    "\n",
    "for item in dirs2:\n",
    "    name = item.replace(\".txt\",\"\")\n",
    "    dic2[name] = \"\"\n",
    "    \n",
    "for key in dic:\n",
    "    if key not in dic2.keys():\n",
    "        os.remove(path + key + \".jpg\")\n",
    "        print(\"deleting \" + key)\n",
    "# print(dic2)"
   ]
  }
 ],
 "metadata": {
  "kernelspec": {
   "display_name": "Python 3",
   "language": "python",
   "name": "python3"
  },
  "language_info": {
   "codemirror_mode": {
    "name": "ipython",
    "version": 3
   },
   "file_extension": ".py",
   "mimetype": "text/x-python",
   "name": "python",
   "nbconvert_exporter": "python",
   "pygments_lexer": "ipython3",
   "version": "3.6.4"
  }
 },
 "nbformat": 4,
 "nbformat_minor": 2
}
