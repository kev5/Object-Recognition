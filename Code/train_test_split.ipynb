{
 "cells": [
  {
   "cell_type": "code",
   "execution_count": 1,
   "metadata": {},
   "outputs": [],
   "source": [
    "# import random\n",
    "# a = [1,2,3]\n",
    "# b = [4,5,6]"
   ]
  },
  {
   "cell_type": "code",
   "execution_count": 2,
   "metadata": {},
   "outputs": [],
   "source": [
    "# c = list(zip(a, b))\n",
    "\n",
    "# random.shuffle(c)\n",
    "\n",
    "# a, b = zip(*c)\n",
    "\n",
    "# print(a)\n",
    "# print(b)"
   ]
  },
  {
   "cell_type": "code",
   "execution_count": 3,
   "metadata": {},
   "outputs": [],
   "source": [
    "import os\n",
    "import random\n",
    "import shutil\n",
    "\n",
    "images = sorted(os.listdir(\"..\\\\Dataset\\\\all_images\"))\n",
    "# img_list = []\n",
    "# for img in images:\n",
    "#     img_list.append(img.replace(\".jpg\", \"\").strip())\n",
    "# print(img_list)"
   ]
  },
  {
   "cell_type": "code",
   "execution_count": 4,
   "metadata": {},
   "outputs": [],
   "source": [
    "labels = sorted(os.listdir(\"..\\\\Dataset\\\\all_labels\"))\n",
    "# label_list = []\n",
    "# for lab in labels:\n",
    "#     label_list.append(lab.replace(\".xml\", \"\").strip())\n",
    "    \n",
    "# print(label_list)\n"
   ]
  },
  {
   "cell_type": "code",
   "execution_count": 5,
   "metadata": {},
   "outputs": [
    {
     "name": "stdout",
     "output_type": "stream",
     "text": [
      "1431   1431\n"
     ]
    }
   ],
   "source": [
    "img_lab = list(zip(images, labels))\n",
    "random.shuffle(img_lab)\n",
    "images, labels = zip(*img_lab) \n",
    "img_len = len(images)\n",
    "lab_len = len(labels)\n",
    "print(img_len, \" \", lab_len)"
   ]
  },
  {
   "cell_type": "code",
   "execution_count": 6,
   "metadata": {},
   "outputs": [],
   "source": [
    "train_images = images[0:int(0.8*img_len)]"
   ]
  },
  {
   "cell_type": "code",
   "execution_count": 7,
   "metadata": {},
   "outputs": [
    {
     "name": "stdout",
     "output_type": "stream",
     "text": [
      "1144\n"
     ]
    }
   ],
   "source": [
    "train_labels = labels[0:int(0.8*lab_len)]\n",
    "print(len(train_images))"
   ]
  },
  {
   "cell_type": "code",
   "execution_count": 8,
   "metadata": {},
   "outputs": [],
   "source": [
    "test_images = images[int(0.8*img_len):]\n",
    "# print(test_images)"
   ]
  },
  {
   "cell_type": "code",
   "execution_count": 9,
   "metadata": {},
   "outputs": [],
   "source": [
    "test_labels = labels[int(0.8*lab_len):]"
   ]
  },
  {
   "cell_type": "code",
   "execution_count": 10,
   "metadata": {},
   "outputs": [],
   "source": [
    "path = \"C:\\\\Users\\\\Aditya\\\\Documents\\\\Artificial Intelligence\\\\Object Recognition\\\\Dataset\\\\all_images\\\\\"\n",
    "moveto_train = \"C:\\\\Users\\\\Aditya\\\\Documents\\\\Artificial Intelligence\\\\Object Recognition\\\\\\\\Dataset\\\\train_images\\\\\"\n",
    "moveto_test = \"C:\\\\Users\\\\Aditya\\\\Documents\\\\Artificial Intelligence\\\\Object Recognition\\\\\\\\Dataset\\\\test_images\\\\\"\n",
    "#train_images\n",
    "#test_images\n",
    "# print(train_images)\n",
    "for f in train_images:\n",
    "    src = path+f\n",
    "    dst = moveto_train\n",
    "    shutil.move(src,dst)\n",
    "    \n",
    "for f in test_images:\n",
    "    src = path+f\n",
    "    dst = moveto_test\n",
    "    shutil.move(src,dst)"
   ]
  },
  {
   "cell_type": "code",
   "execution_count": 11,
   "metadata": {},
   "outputs": [],
   "source": [
    "path = \"C:\\\\Users\\\\Aditya\\\\Documents\\\\Artificial Intelligence\\\\Object Recognition\\\\Dataset\\\\all_labels\\\\\"\n",
    "moveto_train = \"C:\\\\Users\\\\Aditya\\\\Documents\\\\Artificial Intelligence\\\\Object Recognition\\\\Dataset\\\\train_labels\\\\\"\n",
    "moveto_test = \"C:\\\\Users\\\\Aditya\\\\Documents\\\\Artificial Intelligence\\\\Object Recognition\\\\Dataset\\\\test_labels\\\\\"\n",
    "#train_labels\n",
    "#test_labels\n",
    "for f in train_labels:\n",
    "    src = path+f\n",
    "    dst = moveto_train\n",
    "    shutil.move(src,dst)\n",
    "    \n",
    "for f in test_labels:\n",
    "    src = path+f\n",
    "    dst = moveto_test\n",
    "    shutil.move(src,dst)"
   ]
  },
  {
   "cell_type": "code",
   "execution_count": null,
   "metadata": {},
   "outputs": [],
   "source": []
  }
 ],
 "metadata": {
  "kernelspec": {
   "display_name": "Python 3",
   "language": "python",
   "name": "python3"
  },
  "language_info": {
   "codemirror_mode": {
    "name": "ipython",
    "version": 3
   },
   "file_extension": ".py",
   "mimetype": "text/x-python",
   "name": "python",
   "nbconvert_exporter": "python",
   "pygments_lexer": "ipython3",
   "version": "3.6.4"
  }
 },
 "nbformat": 4,
 "nbformat_minor": 2
}
