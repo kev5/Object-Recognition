{
 "cells": [
  {
   "cell_type": "code",
   "execution_count": 18,
   "metadata": {},
   "outputs": [],
   "source": [
    "import pandas as pd"
   ]
  },
  {
   "cell_type": "code",
   "execution_count": 19,
   "metadata": {},
   "outputs": [],
   "source": [
    "df = pd.read_csv(\"..\\\\test_labels.csv\")\n",
    "classes = df['class']"
   ]
  },
  {
   "cell_type": "code",
   "execution_count": 20,
   "metadata": {},
   "outputs": [],
   "source": [
    "cl = set(classes)"
   ]
  },
  {
   "cell_type": "code",
   "execution_count": 21,
   "metadata": {},
   "outputs": [
    {
     "name": "stdout",
     "output_type": "stream",
     "text": [
      "893\n"
     ]
    }
   ],
   "source": [
    "print(len(cl))"
   ]
  },
  {
   "cell_type": "code",
   "execution_count": 22,
   "metadata": {},
   "outputs": [
    {
     "name": "stdout",
     "output_type": "stream",
     "text": [
      "6013\n"
     ]
    }
   ],
   "source": [
    "print(len(classes))"
   ]
  },
  {
   "cell_type": "code",
   "execution_count": 23,
   "metadata": {},
   "outputs": [
    {
     "name": "stdout",
     "output_type": "stream",
     "text": [
      "[nan, 'sculpture', 'end table', 'urn', 'Lamp', 'chest of drawers crop', 'small sculpture *X', 'microphone', 'telephone', 'art', 'couch', 'table *X', 'table top', 'cutlery', 'logo', 'papers', 'soap dish', 'rug crop', 'boots', 'bow', 'hotel', 'back splash', 'picture frame', 'Floor (wooden)', 'flowers in vase', 'door knob', 'cooker hood', 'electrical outlet', 'lamp shade', 'paper dove', 'sink crop', 'candle stick', 'stack of plates', 'scissors', 'cabinet door', 'trophy', 'sofa occluded', 'pot', 'music system', 'cupboard occluded', 'switch', 'cushion', 'stand', 'fan', 'fridgerator', 'adaptor', 'wood art', 'cook books', 'night desk', 'window occluded', 'towel ring', 'wooden figure', 'bookshelves', 'candles', 'stuffed animal', 'heater', 'pottery', 'wastebasket', 'bull skull', 'dish towel', 'lamp occluded', 'sofa crop', 'bathtub', 'sunflower', 'screen occluded', 'open suitcase', 'desk organizer', 'floor', 'tissue', 'door occluded', 'shower door', 'bowl of yarn', 'silver canister', 'storage box', 'side of chair', 'plates', 'bowl of peaches *fruit', 'glasses', 'decorative bowl', 'night table', 'globe', 'sideboard', 'glass sculpture *X', 'shirts', 'wreath', 'large window', 'night stand', 'pillow', 'bath occluded', 'blender', 'potted flowers', 'art piece', 'headboard', 'doorframe', 'fruit bowl', 'ipod', 'dish', 'sticky tape dispenser', 'cushy chair', 'kinives occluded', 'support beam', 'newspaper', 'cake', 'railing', 'microwalve occluded', 'person sitting', 'sofa', 'bookcase', 'ashtray', 'chimney', 'photograph', 'circle', 'dishcloth', 'overhead projector', 'portrait', 'trash', 'coat', 'stacks of books *X', 'refrigeratory', 'tub', 'mailboxes', 'ceiling light', 'orange', 'bar', 'kitchen', 'spoon', 'dog occluded', 'beam', 'binder', 'pulley', 'microwave oven', 'worktop', 'note', 'purse', 'person sitting crop', 'bottom of chair', 'candle stick holder', 'towel', 'candle', 'stack of books', 'files', 'window', 'saucepan occluded', 'drawers', 'microwave crop', 'cans', 'alarm clock', 'dried flowers', 'plant', 'corkscrew', 'bootles', 'kitchen cupboards', 'cumulus', 'business cards', 'soup cooking stock pot', 'potted herb', 'mirror crop', 'golden figurine', 'pipe', 'chair back', 'bed stand', 'table occluded', 'sign', 'jackets', 'objecct', 'tomatoes', 'pineapple', 'set of cushions', 'pictures on hook', 'monitor stand', 'computer desk', 'stained glass', 'bowl of towels', 'chairs', 'buffet', 'soap bottle', 'tray', 'windows', 'figurine', 'airplane', 'dress', 'quilt', 'open book', 'throw pillow', 'tea pot', 'scale', 'column', 'chest occluded', 'bread', 'xylophone', 'hangers', 'cutlery sing', 'dishwasher', 'tile wall', 'head board', 'utencil canister', 'sculpture *X', 'spice rack', 'glass in door', 'poster board', 'stove', 'countertop', 'platter', 'screen', 'Sink', 'kitchen sink', 'kitchen table', 'doorway', 'frame', 'cistern', 'skylight crop', 'head stand', 'mirror', 'place mat', 'dining table', 'furniture crop', 'mouse pad', 'trash can', 'fish tank', 'dish rack', 'faucer', 'person', 'doorknob', 'decorations', 'canister', 'potted herbs', 'carousel horse occluded', 'fork', 'dressor', 'stove burner', 'fluorescent light', 'shower occluded', 'furniture occluded', 'hanger', 'storage table', 'card', 'island counter', 'clothes stand', 'ceiling fan', 'cup glass', 'appels', 'cabinet', 'Microwave oven', 'plug point', 'cups', 'towels', 'train', 'jar', 'area rug', 'Drawers', 'shelves', 'poster', 'decorative plates', 'ceiling', 'paper towel holder', 'tiles', 'comforter', 'bowl of flowers', 'auxiliary table', 'stool', 'utencils', 'keyboard', 'utensil', 'picture crop', 'step', 'dishwaher', 'candle stick two of two', 'washbasin', 'tea canister', 'window shutter', 'range hood', 'bowl', 'partition wall', 'chair crop', 'helicoptor', 'podium', 'curtain', 'file box', 'rack', 'watering can', 'dried plant', 'flowers in urn', 'flag', 'chiar', 'bookshelf', 'Draws', 'bottle of red wine', 'doors', 'wall decoration', 'television stand', 'picture', 'cage', 'rail', 'night stand part', 'binders', 'stove top', 'tile', 'sink', 'light', 'knob *X', 'pencil cup', 'mortar', 'block of house', 'stripped rug', 'light switch', 'pillow occluded', 'book shelf', 'rug occluded', 'blocks', 'climatizer', 'ladle', 'furniture', 'rocking chair', 'spotlight', 'arm chair', 'wall decoration *X', 'mouse', 'Kitchen venting hood', 'flask', 'chair part', 'freezer compartment', 'screen crop', 'Ceiling light', 'chair top', 'wall outlet', 'armchair crop', 'ketchup bottle', 'camera', 'cross', 'part of cabinets', 'Bottle', 'router', 'island', 'counter top', 'coats', 'basket', 'wc', 'can', 'decorative object', 'hanging rack', 'wardrobe', 'floor lamp', 'coffee maker', 'AC recepticle', 'Light', 'bench', 'bowl *X', 'pens', 'fruit plate', 'socket', 'glassware', 'tv', 'Keyboard', 'dish washer', 'window frame', 'jar of utensils', 'bottl', 'cloth', 'file cabinet', 'toilet lid', 'dishes', 'candle holder', 'ovens', 'plate of fruit', 'tube', 'safe', 'vent', 'notebook computer', 'wood paddle', 'wooden bowl', 'chair cushion', 'electrical socket', 'desk calender', 'kettle', 'coffee pot', 'hanging light', 'cupboar', 'table', 'seat', 'stove crop', 'trash compactor', 'bed-clothes', 'speaker', 'cupboards', 'wash basin', 'pantry door', 'foot board', 'teapot', 'male human', 'hinge', 'test', 'billboard', 'ottoman', 'plate', 'copboard', 'purse occluded', 'energy drinks', 'Lios', 'machine', 'decorative frame mirror', 'faucet', 'bowl of cookies', 'jud', 'seving cup and saucer', 'magazine rack', 'hand towel', 'food processor', 'plant basket', 'window crop', 'pot of herbs', 'separation', 'red box whiskey', 'oven mitt', 'bottle of white wine', 'table crop', 'television', 'sweet peas', 'bedhead', 'paperweight', 'armchair top', 'desk', 'block', 'Wire', 'radio alarm clock', 'bulletin board', 'stove top knobs', 'plug', 'quiche', 'chessboard', 'fireplace occluded', 'remote control', 'hanging toy', 'box', 'cup', 'table runner', 'Window', 'candlestick', 'cove', 'mobile', 'toy', 'cruet', 'sweaters', 'pasta', 'artichokes', 'broom', 'stool occluded', 'board', 'drawers occluded', 'swivel chair', 'beer machine', 'workstation', 'stove occluded', 'salt_pepper', 'extractor hood', 'disc spindle', 'outlet', 'notebook', 'cutting board', 'sleepers', 'pwer outlet', 'prjector', 'toy horse', 'wine glass', 'jelly jar', 'fruit', 'saucers and tea cups', 'wine bottle', 'paper weight', 'cushion occluded', 'apple', 'cupboard', 'spotlights', 'toilet seat cover', 'vase', 'pot lid', 'paper', 'ledge', 'horse statue', 'pillows', \"cd's\", 'fireplace mantle', 'bread box', 'extension cord', 'oven and stove', 'forks', 'stools', 'external drivers', 'book shelves', 'candle sticks', 'Bed', 'work bench', 'closet', 'shades', 'woktop', 'lights', 'bar atools', 'coffee table', 'couch *x', 'microwave', 'pasta jar', 'dressing screen', 'computer monitor', 'object', 'cupboards occluded', 'bath faucet', 'oven', 'piano', 'mat', 'book', 'Island', 'cistern occluded', 'jar of utincils', 'roman shade', 'fruit stand', 'statue', 'shower faucet', 'pear', 'objects', 'hanging utensils', 'cell phone', 'basin', 'overhead lighting', 'doilie', 'Notebook', 'saucepan', 'log holder', 'Shelf', 'dishwasher crop', 'plants', 'napkin', 'spoons', 'onions', 'hood', 'printer', 'tables', 'clothing', 'Printers table', 'candle in holder', 'food platter', 'electricity contact', 'dish drainer', 'basket of eggs', 'sofa bed', 'picture occluded', 'bottle', 'boxes', 'glass door', 'conference table', 'chandelier', 'key', 'containers *x', 'dishwasher occluded', 'wc crop', 'kitchen towel', 'wheat', 'bed crop', 'bin', 'ceiling lamp', 'water pitcher', 'vegetable', 'phone', 'vent *x', 'disch rack', 'missing drawer *X', 'stairs', 'oven window', 'fridge crop', 'door crop', 'box occluded', 'drawer', 'Cooker', 'shower head', 'tin', 'tabletop', 'table lamp', 'toilet seat', 'knives', 'side table', 'pictures', 'decoration', 'bear', 'lamp crop', 'expresso machine', 'hanging pitcher', 'frying pan', 'whiteboard', 'cabinets', 'handbag', 'curtains', 'hole puncher', 'sponge', 'slippers', 'brush', 'Picture', 'skylight', 'back of chair', 'table top kitchen', 'tree', 'Mirror', 'fire log', 'radio', 'sock', 'flowers', 'pillar', 'bag', 'cardboard', 'sliding glass door', 'plant in a pot', 'cistern crop', 'jug', 'prjection screen', 'keys', 'chest of drawers', 'bowl of potatoes', 'Ceiling', 'decorative house', 'door handle', 'tv stand', 'laptop', 'flower', 'shower faucets', 'utensils', 'lid', 'armchair', 'peppers', 'house plant', 'backpack', 'stovetop', 'pan', 'garlic', 'computer', 'dog dish', 'decorative box', 'bottles occluded', 'Table', 'ceililng', 'paper towel', 'rooster', 'helicopter', 'radiator', 'bedroom', 'wagon', 'coffee table top', 'stone', 'desk divider', 'clock', 'basket fruits', 'pen', 'magazines', 'fruits', 'Toilet Bowl', 'well', 'freezer door', 'sink faucet', 'pole', 'person sitting occluded', 'china hutch', 'stair case', 'square', 'ventana', 'counter', 'books', 'air condition', 'shutter', 'toilet', 'ceramic mug', 'chair occluded', 'fireplace', 'bottles', 'Cupboards', 'litter bin', 'wooden box', 'armchair occluded', 'utincils in canister', 'bed occluded', 'candle stick one of two', 'loft', 'boot', 'puppet', 'decorative plate', 'handle', 'vase *X', 'bird figure', 'balcony', 'cheese', 'football trophy', 'picture on hook', 'washer', 'lighting', 'melon', 'mantle', 'skirts', 'basket food', 'computers', 'wine glasses', 'coffee marker', 'filing cabinet', 'pastries', 'projector', 'plant pot', 'tablelamp', 'night table occluded', 'Cas', 'extractor hook', 'tiling', 'coffee marker occluded', 'plum', 'duvet', 'hanging lamp', 'refrigerator', 'bottle occluded', 'Bedstead', 'shoes', 'chairs occluded', 'potted plant', 'baking pan', 'partially occluded toilet', 'Recessed light', 'self', 'washbasin crop', 'bowl of vegtables', 'bookshelf empty', 'candle on stand', 'blanket', 'washbasin occluded', 'door frame', 'Stove', 'rug', 'clothes', 'bath crop', 'desk mat', 'chain', 'stapler', 'wall tile', 'night stand table', 'power outlet', 'animal rug', 'monitor', 'rafter', 'hat', 'stove vent', 'wall', 'toilet paper', 'mug', 'shower', 'Floor', 'cupboards crop', 'hot peppers', 'mobile phone', 'shirt', 'gourd', 'suitcase', 'fire place', 'bath', 'carpet', 'oven light switch', 'cuddly toy', 'fridge', 'air conditioning', 'projection screen', 'bed', 'tap', 'kitchen counter', 'shelf', 'pepper', 'pitchfork', 'tomato', 'Dishwasher', 'bouquet', 'suitcase crop', 'small table', 'night stand dresser', 'Bedframe', 'starage rack', 'lightbulb', 'mirror occluded', 'basket of acorns', 'thermostat', 'mattress', 'dish occluded', 'vases', 'pitcher', 'star', 'base of sofa', 'ventilator', 'box of tea', 'Backsplash', 'tables and chairs', 'mugs', 'reflection', 'white board', 'guitar', 'wire', 'knife', 'power socket', 'stool crop', 'trash bag', 'kitchen cabinet', 'desk counter top', 'towel rack', 'steering wheel', 'jars', 'onion', 'pokers *fireplace tools', 'barrel chair', 'china cabinet', 'carousel horse', 'sofa cushions', 'bureau', 'row of chairs', 'vacuum cleaner hose', 'soap', 'paper towel dispenser', 'tin box', '---', 'glass', 'toys', 'beadspread', 'text', 'night table crop', 'cards', 'bulb', 'air vent', 'display case', 'seltzer bottle', 'ceramic jar', 'dry earase board', 'cup and saucer', 'decorative wood', 'wineglass', 'wood floor', 'fax machine', 'Power outlet', 'storage rack', 'valve', 'pug', 'pilolow', 'chair', 'bowl of fruit', 'bucket', 'hairdryer', 'nightstand', 'bottle of wine', 'door', 'cereal boxes', 'showcase', 'pedestal', 'cover', 'trousers', 'Alarm clock', 'painting', 'toaster', 'wall lamp', 'molding', 'Wicker basket', 'tablecloth', 'sleeping robe', 'fireplace screen', 'dresser', 'lamp', 'Chair', 'loudspeaker', 'bowls', 'bucket occluded', 'pane', 'plant *x', 'teddy bear', 'hammer', 'blanket rack', 'cupboard crop', 'wicker ottoman', 'coffee tablwe', 'markers', 'refridgerator', 'closet crop', 'basket of flowers', 'tripod', 'chest of drawers occluded', 'pbject', 'Countertop', 'knob', 'magazine', 'person crop', 'doll', 'floor tile', 'grapes', 'radiator occluded', 'decorative boox', 'key pad', 'boat', 'clown', 'metal jar *X', 'shadow']\n"
     ]
    }
   ],
   "source": [
    "print(list(cl))"
   ]
  },
  {
   "cell_type": "code",
   "execution_count": null,
   "metadata": {},
   "outputs": [],
   "source": []
  }
 ],
 "metadata": {
  "kernelspec": {
   "display_name": "Python 3",
   "language": "python",
   "name": "python3"
  },
  "language_info": {
   "codemirror_mode": {
    "name": "ipython",
    "version": 3
   },
   "file_extension": ".py",
   "mimetype": "text/x-python",
   "name": "python",
   "nbconvert_exporter": "python",
   "pygments_lexer": "ipython3",
   "version": "3.6.4"
  }
 },
 "nbformat": 4,
 "nbformat_minor": 2
}
