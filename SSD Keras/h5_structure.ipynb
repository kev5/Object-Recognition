{
 "cells": [
  {
   "cell_type": "code",
   "execution_count": 7,
   "metadata": {},
   "outputs": [],
   "source": [
    "from __future__ import print_function\n",
    "\n",
    "import h5py\n",
    "\n",
    "\n",
    "# def print_structure(weight_file_path):\n",
    "#     print(\"x\")\n",
    "#     \"\"\"\n",
    "#     Prints out the structure of HDF5 file.\n",
    "\n",
    "#     Args:\n",
    "#       weight_file_path (str) : Path to the file to analyze\n",
    "#     \"\"\"\n",
    "#     f = h5py.File(weight_file_path)\n",
    "#     try:\n",
    "#         if len(f.attrs.items()):\n",
    "#             print(\"{} contains: \".format(weight_file_path))\n",
    "#             print(\"Root attributes:\")\n",
    "#         for key, value in f.attrs.items():\n",
    "#             print(\"  {}: {}\".format(key, value))\n",
    "\n",
    "#         if len(f.items())==0:\n",
    "#             return \n",
    "\n",
    "#         for layer, g in f.items():\n",
    "#             print(\"  {}\".format(layer))\n",
    "#             print(\"    Attributes:\")\n",
    "#             for key, value in g.attrs.items():\n",
    "#                 print(\"      {}: {}\".format(key, value))\n",
    "\n",
    "#             print(\"    Dataset:\")\n",
    "#             for p_name in g.keys():\n",
    "#                 param = g[p_name]\n",
    "#                 subkeys = param.keys()\n",
    "#                 for k_name in param.keys():\n",
    "#                     print(\"      {}/{}: {}\".format(p_name, k_name, param.get(k_name)[:]))\n",
    "#     finally:\n",
    "#         f.close()"
   ]
  },
  {
   "cell_type": "code",
   "execution_count": 16,
   "metadata": {},
   "outputs": [],
   "source": [
    "f = h5py.File(\"VGG_ILSVRC2016_SSD_300x300_iter_440000.h5\")"
   ]
  },
  {
   "cell_type": "code",
   "execution_count": 17,
   "metadata": {},
   "outputs": [
    {
     "data": {
      "text/plain": [
       "[]"
      ]
     },
     "execution_count": 17,
     "metadata": {},
     "output_type": "execute_result"
    }
   ],
   "source": [
    "list(f.keys())"
   ]
  },
  {
   "cell_type": "code",
   "execution_count": 21,
   "metadata": {},
   "outputs": [
    {
     "name": "stdout",
     "output_type": "stream",
     "text": [
      "1000\n"
     ]
    }
   ],
   "source": [
    "print(len(classes))"
   ]
  },
  {
   "cell_type": "code",
   "execution_count": 1,
   "metadata": {},
   "outputs": [],
   "source": [
    "label = []\n",
    "with open('imagenet_labels','r') as f:\n",
    "    for line in f:\n",
    "        for word in line.split():\n",
    "            label.append(word)"
   ]
  },
  {
   "cell_type": "code",
   "execution_count": 2,
   "metadata": {},
   "outputs": [
    {
     "name": "stdout",
     "output_type": "stream",
     "text": [
      "['accordion', 'airplane', 'ant', 'antelope', 'apple', 'armadillo', 'artichoke', 'axe', 'baby', 'bed', 'backpack', 'bagel', 'balance', 'beam', 'banana', 'band', 'aid', 'banjo', 'baseball', 'basketball', 'bathing', 'cap', 'beaker', 'bear', 'bee', 'bell', 'pepper', 'bench', 'bicycle', 'binder', 'bird', 'bookshelf', 'bow', 'bow', 'tie', 'bowl', 'brassiere', 'burrito', 'bus', 'butterfly', 'camel', 'can', 'opener', 'car', 'cart', 'cattle', 'cello', 'centipede', 'chain', 'saw', 'chair', 'chime', 'cocktail', 'shaker', 'coffee', 'maker', 'computer', 'keyboard', 'computer', 'mouse', 'corkscrew', 'cream', 'croquet', 'ball', 'crutch', 'cucumber', 'cup', 'or', 'mug', 'diaper', 'digital', 'clock', 'dishwasher', 'dog', 'domestic', 'cat', 'dragonfly', 'drum', 'dumbbell', 'electric', 'fan', 'elephant', 'face', 'powder', 'fig', 'filing', 'cabinet', 'flower', 'pot', 'flute', 'fox', 'french', 'horn', 'frog', 'frying', 'pan', 'giant', 'panda', 'goldfish', 'golf', 'ball', 'golfcart', 'guacamole', 'guitar', 'hair', 'dryer', 'hair', 'spray', 'hamburger', 'hammer', 'hamster', 'harmonica', 'harp', 'hat', 'with', 'a', 'wide', 'brim', 'head', 'cabbage', 'helmet', 'hippopotamus', 'horizontal', 'bar', 'horse', 'hotdog', 'iPod', 'isopod', 'jellyfish', 'koala', 'bear', 'ladle', 'ladybug', 'lamp', 'laptop', 'lemon', 'lion', 'lipstick', 'lizard', 'lobster', 'maillot', 'maraca', 'microphone', 'microwave', 'milk', 'can', 'miniskirt', 'monkey', 'motorcycle', 'mushroom', 'nail', 'neck', 'brace', 'oboe', 'orange', 'otter', 'pencil', 'box', 'pencil', 'sharpener', 'perfume', 'person', 'piano', 'pineapple', 'ping-pong', 'ball', 'pitcher', 'pizza', 'plastic', 'bag', 'plate', 'rack', 'pomegranate', 'popsicle', 'porcupine', 'power', 'drill', 'pretzel', 'printer', 'puck', 'punching', 'bag', 'purse', 'rabbit', 'racket', 'ray', 'red', 'panda', 'refrigerator', 'remote', 'control', 'rubber', 'eraser', 'rugby', 'ball', 'ruler', 'salt', 'or', 'pepper', 'shaker', 'saxophone', 'scorpion', 'screwdriver', 'seal', 'sheep', 'ski', 'skunk', 'snail', 'snake', 'snowmobile', 'snowplow', 'soap', 'dispenser', 'soccer', 'ball', 'sofa', 'spatula', 'squirrel', 'starfish', 'stethoscope', 'stove', 'strainer', 'strawberry', 'stretcher', 'sunglasses', 'swimming', 'trunks', 'swine', 'syringe', 'table', 'tape', 'player', 'tennis', 'ball', 'tick', 'tie', 'tiger', 'toaster', 'traffic', 'light', 'train', 'trombone', 'trumpet', 'turtle', 'tv', 'or', 'monitor', 'unicycle', 'vacuum', 'violin', 'volleyball', 'waffle', 'iron', 'washer', 'water', 'bottle', 'watercraft', 'whale', 'wine', 'bottle', 'zebra']\n"
     ]
    }
   ],
   "source": [
    "print(label)"
   ]
  },
  {
   "cell_type": "code",
   "execution_count": null,
   "metadata": {},
   "outputs": [],
   "source": []
  }
 ],
 "metadata": {
  "kernelspec": {
   "display_name": "Python 3",
   "language": "python",
   "name": "python3"
  },
  "language_info": {
   "codemirror_mode": {
    "name": "ipython",
    "version": 3
   },
   "file_extension": ".py",
   "mimetype": "text/x-python",
   "name": "python",
   "nbconvert_exporter": "python",
   "pygments_lexer": "ipython3",
   "version": "3.6.4"
  }
 },
 "nbformat": 4,
 "nbformat_minor": 2
}
