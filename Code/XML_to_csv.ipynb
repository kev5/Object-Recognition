{
 "cells": [
  {
   "cell_type": "code",
   "execution_count": 47,
   "metadata": {},
   "outputs": [
    {
     "name": "stdout",
     "output_type": "stream",
     "text": [
      "('scene.jpg', '815', '815', '1', 14, 432, 311, 815)\n",
      "('scene.jpg', '815', '815', '1', 471, 400, 691, 710)\n",
      "('scene.jpg', '815', '815', '2', 298, 529, 519, 763)\n",
      "('scene.jpg', '815', '815', '3', 100, 432, 179, 477)\n",
      "('scene.jpg', '815', '815', '3', 520, 398, 585, 439)\n",
      "('scene.jpg', '815', '815', '4', 64, 70, 212, 310)\n",
      "('scene.jpg', '815', '815', '4', 512, 131, 601, 310)\n",
      "Successfully converted xml to csv.\n"
     ]
    }
   ],
   "source": [
    "from xml.dom import minidom\n",
    "import xml.etree.ElementTree as ET\n",
    "import glob\n",
    "import pandas as pd\n",
    "\n",
    "filelist = glob.glob(\"./*.xml\")\n",
    "\n",
    "def xml_to_csv(filelist):\n",
    "    xml_list = []\n",
    "    for xml in filelist\n",
    "    tree = ET.parse(xml)#'scene.xml'\n",
    "    root = tree.getroot()\n",
    "\n",
    "    file_name = root.find('filename').text\n",
    "    rows = root.find('imagesize').find('nrows').text\n",
    "    cols = root.find('imagesize').find('ncols').text\n",
    "\n",
    "    for child in root.iter('object'):\n",
    "        x = []\n",
    "        y = []\n",
    "        classs = child.find('name').text.strip()\n",
    "        for child in child.iter('pt'):\n",
    "            x.append(int(child.find('x').text))\n",
    "            y.append(int(child.find('y').text))\n",
    "            \n",
    "        value = (file_name,\n",
    "                 rows,\n",
    "                 cols,\n",
    "                 classs,\n",
    "                 min(x),\n",
    "                 min(y),\n",
    "                 max(x),\n",
    "                 max(y))\n",
    "        print(value)\n",
    "        xml_list.append(value)\n",
    "    column_name = ['filename', 'width', 'height', 'class', 'xmin', 'ymin', 'xmax', 'ymax']\n",
    "    xml_df = pd.DataFrame(xml_list, columns=column_name)\n",
    "    return (xml_df)\n",
    "\n",
    "def main():\n",
    "    xml_df = xml_to_csv(filelist)\n",
    "#     newname = str(filelist[0].replace(\".xml\",\"\"))\n",
    "    xml_df.to_csv(('train_labels.csv'), index=None)\n",
    "    print('Successfully converted xml to csv.')\n",
    "\n",
    "main()"
   ]
  },
  {
   "cell_type": "code",
   "execution_count": null,
   "metadata": {},
   "outputs": [],
   "source": []
  }
 ],
 "metadata": {
  "kernelspec": {
   "display_name": "Python 3",
   "language": "python",
   "name": "python3"
  },
  "language_info": {
   "codemirror_mode": {
    "name": "ipython",
    "version": 3
   },
   "file_extension": ".py",
   "mimetype": "text/x-python",
   "name": "python",
   "nbconvert_exporter": "python",
   "pygments_lexer": "ipython3",
   "version": "3.6.4"
  }
 },
 "nbformat": 4,
 "nbformat_minor": 2
}
